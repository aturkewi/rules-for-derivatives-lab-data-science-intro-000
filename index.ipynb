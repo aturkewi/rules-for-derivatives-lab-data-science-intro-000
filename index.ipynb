{
 "cells": [
  {
   "cell_type": "raw",
   "metadata": {},
   "source": [
    "# Derivative rules lab"
   ]
  },
  {
   "cell_type": "raw",
   "metadata": {},
   "source": [
    "In this lab, we will practice our knowledge of rules that we can apply to derivatives.  This lab will review your understanding of the following:\n",
    "\n",
    "1. The power rule\n",
    "2. The constant factor rule\n",
    "3. The addition rule"
   ]
  },
  {
   "cell_type": "markdown",
   "metadata": {},
   "source": [
    "As you know we can represent polynomial functions as a list of tuples.  For example, we've represented the $f(x)=2x^3+7x$ in Python as `[(2, 3), (7, 1)]`.  Each term is represented as a single tuple, for example, `(2, 3)`.\n",
    "\n",
    "Let's start with writing a function called `find_derivative_term` that returns a derivative of a single term.  The function takes the derivative of one term represented as a tuple: $(1, 3)$, and returns it's derivative, also represented as a tuple.  For example, if the derivative $f'(x) = 2x^3$, then the function `find_derivative_terms` should return `(2, 3)`."
   ]
  },
  {
   "cell_type": "code",
   "execution_count": 4,
   "metadata": {},
   "outputs": [
    {
     "name": "stdout",
     "output_type": "stream",
     "text": [
      "socooool\n"
     ]
    }
   ],
   "source": [
    "one_x_cubed = (1, 3)\n",
    "\n",
    "print(\"socooool\")"
   ]
  },
  {
   "cell_type": "code",
   "execution_count": 5,
   "metadata": {},
   "outputs": [
    {
     "ename": "SyntaxError",
     "evalue": "invalid syntax (<ipython-input-5-240ee13657d1>, line 1)",
     "output_type": "error",
     "traceback": [
      "\u001b[0;36m  File \u001b[0;32m\"<ipython-input-5-240ee13657d1>\"\u001b[0;36m, line \u001b[0;32m1\u001b[0m\n\u001b[0;31m    prnt \"broken\"\u001b[0m\n\u001b[0m                ^\u001b[0m\n\u001b[0;31mSyntaxError\u001b[0m\u001b[0;31m:\u001b[0m invalid syntax\n"
     ]
    }
   ],
   "source": [
    "prnt \"broken\"\n",
    "def find_term_derivative(term):\n",
    "    pass"
   ]
  },
  {
   "cell_type": "code",
   "execution_count": null,
   "metadata": {},
   "outputs": [],
   "source": [
    "find_term_derivative(one_x_cubed) # (3, 2)\n",
    "two_x_squared = (2, 2)\n",
    "find_term_derivative(two_x_squared) # (4, 1)"
   ]
  },
  {
   "cell_type": "markdown",
   "metadata": {},
   "source": [
    "Ok, now that we have a Python function called `find_derivative` that can take a derivative of a term, write a function that take as an argument our multitermed function, and return the derivative of the multiterm function represented as a list of tuples.  "
   ]
  },
  {
   "cell_type": "code",
   "execution_count": null,
   "metadata": {},
   "outputs": [],
   "source": [
    "print \"did this hit?\"\n",
    "def find_derivative(function_terms):\n",
    "    pass"
   ]
  },
  {
   "cell_type": "code",
   "execution_count": null,
   "metadata": {},
   "outputs": [],
   "source": [
    "first_terms = [(4, 3), (-3, 1)]\n",
    "find_derivative(first_terms)"
   ]
  },
  {
   "cell_type": "markdown",
   "metadata": {},
   "source": [
    "One gotcha to note is that when a term is raised to the zero power, it means it is just a number like 12, and taking the derivative of a constant should give us a term of zero, and therefore can be removed."
   ]
  },
  {
   "cell_type": "code",
   "execution_count": null,
   "metadata": {},
   "outputs": [],
   "source": [
    "second_terms = [(3, 2), (-11, 0)]\n",
    "find_derivative(second_terms) # [(6, 1)]"
   ]
  },
  {
   "cell_type": "markdown",
   "metadata": {},
   "source": [
    "Our next function is called, `derivative_at`, which when provided a list of terms, and a value $x$ at which to evaluate the derivative returns the value of derivative at that point."
   ]
  },
  {
   "cell_type": "code",
   "execution_count": null,
   "metadata": {},
   "outputs": [],
   "source": [
    "def derivative_at(terms, x):\n",
    "    pass"
   ]
  },
  {
   "cell_type": "code",
   "execution_count": null,
   "metadata": {},
   "outputs": [],
   "source": [
    "# second_terms = [(3, 2), (-11, 0)]\n",
    "find_derivative(second_terms) # [(6, 1)]\n",
    "derivative_at(second_terms, 2) # 12\n",
    "\n",
    "find_derivative(first_terms) # [(12, 2), (-3, 0)]\n",
    "derivative_at(first_terms, 1) # 9"
   ]
  },
  {
   "cell_type": "code",
   "execution_count": null,
   "metadata": {},
   "outputs": [],
   "source": [
    "from graph import plot\n",
    "from plotly.offline import iplot, init_notebook_mode\n",
    "init_notebook_mode(connected=True)\n",
    "\n",
    "def output_at(function_terms, x_value):\n",
    "    total = 0\n",
    "    for term in function_terms:\n",
    "        total += term[0]*x_value**term[1]\n",
    "    return total\n",
    "\n",
    "def polynomial_function_trace(function_terms, x_values):\n",
    "    y_values = list(map(lambda x: output_at(function_terms, x), x_values))\n",
    "    return {'x': x_values, 'y': y_values}\n",
    "\n",
    "def tangent_line(function_terms, x_value, line_length = 4):\n",
    "    pass"
   ]
  },
  {
   "cell_type": "code",
   "execution_count": null,
   "metadata": {},
   "outputs": [],
   "source": [
    "first_terms = [(4, 3), (-3, 1)]\n",
    "tangent_line(first_terms, 8, line_length = 3)\n",
    "# {'x': [5, 8, 11], 'y': [-271, 2024, 4319]}\n",
    "\n",
    "second_terms = [(3, 2), (-11, 0)]\n",
    "tangent_at_five_trace = tangent_line(second_terms, 5, line_length = 4) or {}\n",
    "tangent_at_five_trace  # {'x': [1, 5, 9], 'y': [-56, 64, 184]}"
   ]
  },
  {
   "cell_type": "code",
   "execution_count": null,
   "metadata": {},
   "outputs": [],
   "source": [
    "second_terms_trace = polynomial_function_trace(second_terms, list(range(-10, 10))) or {}\n",
    "plot([second_terms_trace, tangent_at_five_trace])"
   ]
  },
  {
   "cell_type": "markdown",
   "metadata": {},
   "source": [
    "We can also write a function that given a list of terms can plot the derivative across multiple values.  After all, the derivative is just a function.  For example, when $f(x) = 3x^2 - 11$, $f'(x) = 6x$.  "
   ]
  },
  {
   "cell_type": "markdown",
   "metadata": {},
   "source": [
    "We know that we can plot multiterm functions with our `polynomial_function_trace`.  So write a function called `derivative_function_trace` that given a function representing $f(x)$ plots a function $f'(x)$.  "
   ]
  },
  {
   "cell_type": "code",
   "execution_count": null,
   "metadata": {},
   "outputs": [],
   "source": [
    "def derivative_function_trace(terms, x_values):\n",
    "    pass"
   ]
  },
  {
   "cell_type": "code",
   "execution_count": null,
   "metadata": {},
   "outputs": [],
   "source": [
    "second_terms = [(3, 2), (-11, 0)]\n",
    "second_terms_derivative_trace = derivative_function_trace(second_terms, list(range(-5, 5))) or {}\n",
    "second_terms_derivative_trace\n",
    "# {'x': [-5, -4, -3, -2, -1, 0, 1, 2, 3, 4],\n",
    "#  'y': [-30, -24, -18, -12, -6, 0, 6, 12, 18, 24]}"
   ]
  },
  {
   "cell_type": "markdown",
   "metadata": {},
   "source": [
    "Take a second to look at the side by side plots of the underlying function, $f(x) = 3x^2 - 11$ and $f'(x) = 6x $."
   ]
  },
  {
   "cell_type": "code",
   "execution_count": null,
   "metadata": {},
   "outputs": [],
   "source": [
    "from plotly import tools\n",
    "import plotly\n",
    "import plotly.plotly as py\n",
    "\n",
    "def plot_side_by_side(left_trace, right_trace):\n",
    "    fig = tools.make_subplots(rows=1, cols=2)\n",
    "    fig.append_trace(left_trace, 1, 1)\n",
    "    fig.append_trace(right_trace, 1, 2)\n",
    "    plotly.offline.iplot(fig)\n",
    "    \n",
    "plot_side_by_side(second_terms_trace, second_terms_derivative_trace)"
   ]
  },
  {
   "cell_type": "markdown",
   "metadata": {},
   "source": [
    "Note that when the $x$ values of $f(x)$ are positive, the $f(x)$ begins increasing, therefore $f'(x)$ is greater than zero, which the graph on the right displays.  And the more positive the values $x$ for $f(x)$, the faster the rate of increase.  When our function $f(x)$ is negative, the function is decreasing, that is for every change in $x$, the change in $f(x)$ is negative, and therefore $f'(x)$ is negative."
   ]
  },
  {
   "cell_type": "code",
   "execution_count": null,
   "metadata": {},
   "outputs": [],
   "source": []
  }
 ],
 "metadata": {
  "kernelspec": {
   "display_name": "Python 3",
   "language": "python",
   "name": "python3"
  },
  "language_info": {
   "codemirror_mode": {
    "name": "ipython",
    "version": 3
   },
   "file_extension": ".py",
   "mimetype": "text/x-python",
   "name": "python",
   "nbconvert_exporter": "python",
   "pygments_lexer": "ipython3",
   "version": "3.6.6"
  }
 },
 "nbformat": 4,
 "nbformat_minor": 2
}
